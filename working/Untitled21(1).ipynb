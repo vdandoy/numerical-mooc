{
 "cells": [
  {
   "cell_type": "code",
   "execution_count": 1,
   "metadata": {
    "collapsed": true
   },
   "outputs": [],
   "source": [
    "import numpy as np\n",
    "from matplotlib import pyplot as plt"
   ]
  },
  {
   "cell_type": "code",
   "execution_count": 36,
   "metadata": {
    "collapsed": true
   },
   "outputs": [],
   "source": [
    "#definir le nombre de points\n",
    "n = 1000000\n",
    "p = np.zeros(n)\n",
    "\n",
    "\n",
    "# masse/densite\n",
    "M = 12*2e30\n",
    "#rho = 1410*np.ones(n)\n",
    "rho = 1e14*np.ones(n)#\n",
    "\n",
    "\n",
    "#sommet est a x = 0, le centre a n\n",
    "\n",
    "#constants\n",
    "G = 6.67e-11\n",
    "c = 299792458\n",
    "r = np.linspace(R,0,n)\n",
    "dr = R/n"
   ]
  },
  {
   "cell_type": "code",
   "execution_count": 3,
   "metadata": {
    "collapsed": true
   },
   "outputs": [],
   "source": [
    "def f(r,p,rho):\n",
    "    return ((rho+p/c**2)*(G*M*r/R**3)/(1-2*G*M*r/(R**3*c**2))*(1+(4*np.pi*p*R**3)/(M*c**2)))"
   ]
  },
  {
   "cell_type": "code",
   "execution_count": 4,
   "metadata": {
    "collapsed": true
   },
   "outputs": [],
   "source": [
    "for i in range(0,n-1):\n",
    "    p[i+1] = p[i]+1/2*dr*(f(r[i],p[i],rho[i])+f(r[i]+dr,p[i]+dr*f(r[i],p[i],rho[i]),rho[i]))"
   ]
  },
  {
   "cell_type": "code",
   "execution_count": 102,
   "metadata": {
    "collapsed": true
   },
   "outputs": [],
   "source": [
    "def P_theo(M,R,n):\n",
    "    G = 6.67e-11\n",
    "    c = 299792458\n",
    "    P_theo = np.zeros(n)\n",
    "    rho = (3*M)/(4*np.pi*(R**3))\n",
    "    r = np.linspace(R,0,n)\n",
    "    comp = G*M/(R*c**2)\n",
    "    P_theo = rho*c**2*(np.sqrt(1-2*comp*(r/R)**2)-np.sqrt(1-2*comp))/(3*np.sqrt(1-2*comp)-np.sqrt(1-2*comp*(r/R)**2))\n",
    "    return P_theo"
   ]
  },
  {
   "cell_type": "code",
   "execution_count": 106,
   "metadata": {},
   "outputs": [
    {
     "data": {
      "image/png": "[encoded data removed]",
      "text/plain": [
       "<matplotlib.figure.Figure at 0x1213447b8>"
      ]
     },
     "metadata": {},
     "output_type": "display_data"
    }
   ],
   "source": [
    "M = 12e31\n",
    "R = 10e5\n",
    "n = 1000000\n",
    "r = np.linspace(R,0,n)\n",
    "x=r[:]\n",
    "y=P_theo(M,R,n)[:]\n",
    "\n",
    "plt.plot(x,y)\n",
    "plt.show()\n",
    "\n"
   ]
  },
  {
   "cell_type": "code",
   "execution_count": 115,
   "metadata": {
    "collapsed": true
   },
   "outputs": [],
   "source": [
    "def collapse_R(R):\n",
    "  \n",
    "    M_in=1e10\n",
    "    \n",
    "    while P_theo(M_in,R,n)[n-1] < 1e35:\n",
    "        \n",
    "        M_in = M_in*1e2\n",
    "        collapse_Masse = M_in\n",
    "        print(P_theo(M_in,R,n)[n-1])\n",
    "    \n",
    "    return collapse_Masse"
   ]
  },
  {
   "cell_type": "code",
   "execution_count": 116,
   "metadata": {},
   "outputs": [
    {
     "name": "stdout",
     "output_type": "stream",
     "text": [
      "0.0\n",
      "0.0\n",
      "0.0\n",
      "0.0\n",
      "5.51415893368e-07\n",
      "0.00617585800572\n",
      "61.4332446803\n",
      "614330.792668\n",
      "6143307267.54\n",
      "6.14332231771e+13\n",
      "6.14482724643e+17\n",
      "6.29938475866e+21\n",
      "nan\n"
     ]
    },
    {
     "name": "stderr",
     "output_type": "stream",
     "text": [
      "/Users/virgiledandoy/anaconda/lib/python3.6/site-packages/ipykernel_launcher.py:8: RuntimeWarning: invalid value encountered in sqrt\n",
      "  \n"
     ]
    },
    {
     "data": {
      "text/plain": [
       "1e+36"
      ]
     },
     "execution_count": 116,
     "metadata": {},
     "output_type": "execute_result"
    }
   ],
   "source": [
    "collapse_R(6e8)"
   ]
  },
  {
   "cell_type": "code",
   "execution_count": 171,
   "metadata": {
    "collapsed": true
   },
   "outputs": [],
   "source": [
    "def collapse_M(M):\n",
    "  \n",
    "    R_in=1e10\n",
    "    \n",
    "    while P_theo(M,R_in,n)[n-1] < 1e35:\n",
    "        \n",
    "        R_in = (R_in)*10**(-1)\n",
    "        collapse_Rayon = R_in\n",
    "        print(P_theo(M,R_in,n)[n-1])\n",
    "        R_S = (2*G*M)/(c**2)\n",
    "    \n",
    "    return (R_in,R_S)"
   ]
  },
  {
   "cell_type": "code",
   "execution_count": 172,
   "metadata": {},
   "outputs": [
    {
     "name": "stdout",
     "output_type": "stream",
     "text": [
      "3.18469986525e+13\n",
      "3.18478495338e+17\n",
      "3.18563610093e+21\n",
      "3.19417424019e+25\n",
      "3.28231097865e+29\n",
      "4.57158347623e+33\n",
      "nan\n"
     ]
    },
    {
     "name": "stderr",
     "output_type": "stream",
     "text": [
      "/Users/virgiledandoy/anaconda/lib/python3.6/site-packages/ipykernel_launcher.py:8: RuntimeWarning: invalid value encountered in sqrt\n",
      "  \n"
     ]
    },
    {
     "data": {
      "text/plain": [
       "(1000.0, 2968.5503495510543)"
      ]
     },
     "execution_count": 172,
     "metadata": {},
     "output_type": "execute_result"
    }
   ],
   "source": [
    "collapse_M(2e30)"
   ]
  },
  {
   "cell_type": "code",
   "execution_count": null,
   "metadata": {
    "collapsed": true
   },
   "outputs": [],
   "source": []
  },
  {
   "cell_type": "code",
   "execution_count": null,
   "metadata": {
    "collapsed": true
   },
   "outputs": [],
   "source": []
  }
 ],
 "metadata": {
  "kernelspec": {
   "display_name": "Python 3",
   "language": "python",
   "name": "python3"
  },
  "language_info": {
   "codemirror_mode": {
    "name": "ipython",
    "version": 3
   },
   "file_extension": ".py",
   "mimetype": "text/x-python",
   "name": "python",
   "nbconvert_exporter": "python",
   "pygments_lexer": "ipython3",
   "version": "3.6.1"
  }
 },
 "nbformat": 4,
 "nbformat_minor": 2
}
